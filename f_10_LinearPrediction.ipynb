{
 "cells": [
  {
   "cell_type": "markdown",
   "metadata": {},
   "source": [
    "# 시계열 선형 예측\n",
    "\n",
    "- 시계열 데이터 형태\n",
    " - 1) 각 샘플이 날짜나 시각 (연월일 시분초) 정보를 포함하고 있는 경우\n",
    " - 2) 시각 정보 없이 샘플 값만 나열된 경우 (샘플링 간격이 일정한 경우)\n",
    "- 과거 기온 변화 정보를 사용하여 미래값을 예측한다 (time series forcasting)\n",
    "- 선형 예측 (linear regression) 모델 사용"
   ]
  },
  {
   "cell_type": "code",
   "execution_count": 1,
   "metadata": {},
   "outputs": [],
   "source": [
    "import pandas as pd\n",
    "import numpy as np\n",
    "import matplotlib.pyplot as plt\n",
    "%matplotlib inline\n",
    "%config InlineBackend.figure_format = 'retina'"
   ]
  },
  {
   "cell_type": "markdown",
   "metadata": {},
   "source": [
    "# datetime\n",
    "- 연월일 시분초 정보를 다루는 특수 데이터 구조체"
   ]
  },
  {
   "cell_type": "code",
   "execution_count": 2,
   "metadata": {},
   "outputs": [
    {
     "data": {
      "text/plain": [
       "datetime.datetime(2021, 7, 21, 9, 37, 0, 167248)"
      ]
     },
     "execution_count": 2,
     "metadata": {},
     "output_type": "execute_result"
    }
   ],
   "source": [
    "# 현재 시각 얻기\n",
    "from datetime import datetime\n",
    "t1 = datetime.now()\n",
    "t1"
   ]
  },
  {
   "cell_type": "code",
   "execution_count": 3,
   "metadata": {},
   "outputs": [
    {
     "data": {
      "text/plain": [
       "(2021, 7, 21, 9, 37, 0)"
      ]
     },
     "execution_count": 3,
     "metadata": {},
     "output_type": "execute_result"
    }
   ],
   "source": [
    "# 연월일 시분초 정보 얻기\n",
    "t1.year, t1.month, t1.day, t1.hour, t1.minute, t1.second"
   ]
  },
  {
   "cell_type": "code",
   "execution_count": 4,
   "metadata": {},
   "outputs": [
    {
     "data": {
      "text/plain": [
       "2"
      ]
     },
     "execution_count": 4,
     "metadata": {},
     "output_type": "execute_result"
    }
   ],
   "source": [
    "# 요일 보기\n",
    "t1.weekday()"
   ]
  },
  {
   "cell_type": "code",
   "execution_count": 5,
   "metadata": {},
   "outputs": [
    {
     "data": {
      "text/plain": [
       "'7/21/2021'"
      ]
     },
     "execution_count": 5,
     "metadata": {},
     "output_type": "execute_result"
    }
   ],
   "source": [
    "# 포맷을 바꾸어 표현하기\n",
    "d = \"{1}/{2}/{0}\".format(t1.year, t1.month, t1.day)\n",
    "d"
   ]
  },
  {
   "cell_type": "code",
   "execution_count": 6,
   "metadata": {},
   "outputs": [
    {
     "data": {
      "text/plain": [
       "datetime.datetime(2021, 12, 31, 11, 0)"
      ]
     },
     "execution_count": 6,
     "metadata": {},
     "output_type": "execute_result"
    }
   ],
   "source": [
    "# 새로운 datetime 객체 만들기\n",
    "new_time = datetime(2021, 12, 31, 11)\n",
    "new_time"
   ]
  },
  {
   "cell_type": "code",
   "execution_count": 7,
   "metadata": {},
   "outputs": [
    {
     "data": {
      "text/plain": [
       "datetime.timedelta(microseconds=36779)"
      ]
     },
     "execution_count": 7,
     "metadata": {},
     "output_type": "execute_result"
    }
   ],
   "source": [
    "# 시간 차이 구하기 (timedelta을 얻음)\n",
    "delay = datetime.now() - t1\n",
    "delay"
   ]
  },
  {
   "cell_type": "markdown",
   "metadata": {},
   "source": [
    "## to_datetime\n",
    "- 컬럼명이 year, month, day 인 데이터프레임을 datetime 형식으로 변환해준다"
   ]
  },
  {
   "cell_type": "code",
   "execution_count": 8,
   "metadata": {},
   "outputs": [
    {
     "data": {
      "text/html": [
       "<div>\n",
       "<style scoped>\n",
       "    .dataframe tbody tr th:only-of-type {\n",
       "        vertical-align: middle;\n",
       "    }\n",
       "\n",
       "    .dataframe tbody tr th {\n",
       "        vertical-align: top;\n",
       "    }\n",
       "\n",
       "    .dataframe thead th {\n",
       "        text-align: right;\n",
       "    }\n",
       "</style>\n",
       "<table border=\"1\" class=\"dataframe\">\n",
       "  <thead>\n",
       "    <tr style=\"text-align: right;\">\n",
       "      <th></th>\n",
       "      <th>year</th>\n",
       "      <th>month</th>\n",
       "      <th>day</th>\n",
       "    </tr>\n",
       "  </thead>\n",
       "  <tbody>\n",
       "    <tr>\n",
       "      <th>0</th>\n",
       "      <td>2021</td>\n",
       "      <td>2</td>\n",
       "      <td>9</td>\n",
       "    </tr>\n",
       "    <tr>\n",
       "      <th>1</th>\n",
       "      <td>2022</td>\n",
       "      <td>3</td>\n",
       "      <td>11</td>\n",
       "    </tr>\n",
       "    <tr>\n",
       "      <th>2</th>\n",
       "      <td>2023</td>\n",
       "      <td>4</td>\n",
       "      <td>23</td>\n",
       "    </tr>\n",
       "  </tbody>\n",
       "</table>\n",
       "</div>"
      ],
      "text/plain": [
       "   year  month  day\n",
       "0  2021      2    9\n",
       "1  2022      3   11\n",
       "2  2023      4   23"
      ]
     },
     "execution_count": 8,
     "metadata": {},
     "output_type": "execute_result"
    }
   ],
   "source": [
    "df = pd.DataFrame({'year': [2021, 2022, 2023],\n",
    "                   'month': [2, 3, 4],\n",
    "                   'day': [9, 11, 23]})\n",
    "df"
   ]
  },
  {
   "cell_type": "code",
   "execution_count": 9,
   "metadata": {},
   "outputs": [
    {
     "data": {
      "text/plain": [
       "0   2021-02-09\n",
       "1   2022-03-11\n",
       "2   2023-04-23\n",
       "dtype: datetime64[ns]"
      ]
     },
     "execution_count": 9,
     "metadata": {},
     "output_type": "execute_result"
    }
   ],
   "source": [
    "date = pd.to_datetime(df)\n",
    "date"
   ]
  },
  {
   "cell_type": "code",
   "execution_count": 10,
   "metadata": {},
   "outputs": [
    {
     "data": {
      "text/plain": [
       "Timestamp('2021-09-01 00:00:00')"
      ]
     },
     "execution_count": 10,
     "metadata": {},
     "output_type": "execute_result"
    }
   ],
   "source": [
    "# 날짜 데이터를 직접 생성하는 방법 (네자리 연도는 Y로 표시)\n",
    "pd.to_datetime('20210901', format='%Y%m%d', errors='ignore')"
   ]
  },
  {
   "cell_type": "code",
   "execution_count": 11,
   "metadata": {},
   "outputs": [
    {
     "data": {
      "text/plain": [
       "Timestamp('2021-09-01 00:00:00')"
      ]
     },
     "execution_count": 11,
     "metadata": {},
     "output_type": "execute_result"
    }
   ],
   "source": [
    "# 두자리 연도는 y로 표시\n",
    "pd.to_datetime('210901', format='%y%m%d', errors='ignore') #ok"
   ]
  },
  {
   "cell_type": "markdown",
   "metadata": {},
   "source": [
    "## date_range\n",
    "- 날짜 데이터의 범위(기간)을 하나의 변수로 표현"
   ]
  },
  {
   "cell_type": "code",
   "execution_count": 12,
   "metadata": {},
   "outputs": [
    {
     "name": "stdout",
     "output_type": "stream",
     "text": [
      "365\n"
     ]
    },
    {
     "data": {
      "text/plain": [
       "DatetimeIndex(['2021-01-01', '2021-01-02', '2021-01-03', '2021-01-04',\n",
       "               '2021-01-05', '2021-01-06', '2021-01-07', '2021-01-08',\n",
       "               '2021-01-09', '2021-01-10',\n",
       "               ...\n",
       "               '2021-12-22', '2021-12-23', '2021-12-24', '2021-12-25',\n",
       "               '2021-12-26', '2021-12-27', '2021-12-28', '2021-12-29',\n",
       "               '2021-12-30', '2021-12-31'],\n",
       "              dtype='datetime64[ns]', length=365, freq='D')"
      ]
     },
     "execution_count": 12,
     "metadata": {},
     "output_type": "execute_result"
    }
   ],
   "source": [
    "date = pd.date_range(start='2021-1-1', end='2021-12-31')\n",
    "print(len(date))\n",
    "date"
   ]
  },
  {
   "cell_type": "code",
   "execution_count": 13,
   "metadata": {},
   "outputs": [
    {
     "data": {
      "text/html": [
       "<div>\n",
       "<style scoped>\n",
       "    .dataframe tbody tr th:only-of-type {\n",
       "        vertical-align: middle;\n",
       "    }\n",
       "\n",
       "    .dataframe tbody tr th {\n",
       "        vertical-align: top;\n",
       "    }\n",
       "\n",
       "    .dataframe thead th {\n",
       "        text-align: right;\n",
       "    }\n",
       "</style>\n",
       "<table border=\"1\" class=\"dataframe\">\n",
       "  <thead>\n",
       "    <tr style=\"text-align: right;\">\n",
       "      <th></th>\n",
       "      <th>0</th>\n",
       "    </tr>\n",
       "  </thead>\n",
       "  <tbody>\n",
       "    <tr>\n",
       "      <th>0</th>\n",
       "      <td>2021-01-01</td>\n",
       "    </tr>\n",
       "    <tr>\n",
       "      <th>1</th>\n",
       "      <td>2021-01-02</td>\n",
       "    </tr>\n",
       "    <tr>\n",
       "      <th>2</th>\n",
       "      <td>2021-01-03</td>\n",
       "    </tr>\n",
       "    <tr>\n",
       "      <th>3</th>\n",
       "      <td>2021-01-04</td>\n",
       "    </tr>\n",
       "    <tr>\n",
       "      <th>4</th>\n",
       "      <td>2021-01-05</td>\n",
       "    </tr>\n",
       "    <tr>\n",
       "      <th>...</th>\n",
       "      <td>...</td>\n",
       "    </tr>\n",
       "    <tr>\n",
       "      <th>360</th>\n",
       "      <td>2021-12-27</td>\n",
       "    </tr>\n",
       "    <tr>\n",
       "      <th>361</th>\n",
       "      <td>2021-12-28</td>\n",
       "    </tr>\n",
       "    <tr>\n",
       "      <th>362</th>\n",
       "      <td>2021-12-29</td>\n",
       "    </tr>\n",
       "    <tr>\n",
       "      <th>363</th>\n",
       "      <td>2021-12-30</td>\n",
       "    </tr>\n",
       "    <tr>\n",
       "      <th>364</th>\n",
       "      <td>2021-12-31</td>\n",
       "    </tr>\n",
       "  </tbody>\n",
       "</table>\n",
       "<p>365 rows × 1 columns</p>\n",
       "</div>"
      ],
      "text/plain": [
       "             0\n",
       "0   2021-01-01\n",
       "1   2021-01-02\n",
       "2   2021-01-03\n",
       "3   2021-01-04\n",
       "4   2021-01-05\n",
       "..         ...\n",
       "360 2021-12-27\n",
       "361 2021-12-28\n",
       "362 2021-12-29\n",
       "363 2021-12-30\n",
       "364 2021-12-31\n",
       "\n",
       "[365 rows x 1 columns]"
      ]
     },
     "execution_count": 13,
     "metadata": {},
     "output_type": "execute_result"
    }
   ],
   "source": [
    "# datetime 형식 데이터는 데이터프레임으로 바로 만들 수 있다\n",
    "pd.DataFrame(date)"
   ]
  },
  {
   "cell_type": "markdown",
   "metadata": {},
   "source": [
    "## 날씨 데이터"
   ]
  },
  {
   "cell_type": "code",
   "execution_count": 14,
   "metadata": {
    "colab": {
     "base_uri": "https://localhost:8080/",
     "height": 35
    },
    "colab_type": "code",
    "executionInfo": {
     "elapsed": 2093,
     "status": "ok",
     "timestamp": 1573631194343,
     "user": {
      "displayName": "김화종",
      "photoUrl": "https://lh3.googleusercontent.com/a-/AAuE7mCOtXjyLykQ_8l9Pq2rL3r5y110ynjRS1eb1EzpcQ=s64",
      "userId": "17353049580175403985"
     },
     "user_tz": -540
    },
    "id": "j78wbP3P0Ygp",
    "outputId": "b622d5c7-c97e-4642-dc79-ea5ca4e5e605",
    "scrolled": true
   },
   "outputs": [
    {
     "name": "stdout",
     "output_type": "stream",
     "text": [
      "(4018, 4)\n"
     ]
    },
    {
     "data": {
      "text/html": [
       "<div>\n",
       "<style scoped>\n",
       "    .dataframe tbody tr th:only-of-type {\n",
       "        vertical-align: middle;\n",
       "    }\n",
       "\n",
       "    .dataframe tbody tr th {\n",
       "        vertical-align: top;\n",
       "    }\n",
       "\n",
       "    .dataframe thead th {\n",
       "        text-align: right;\n",
       "    }\n",
       "</style>\n",
       "<table border=\"1\" class=\"dataframe\">\n",
       "  <thead>\n",
       "    <tr style=\"text-align: right;\">\n",
       "      <th></th>\n",
       "      <th>연월일</th>\n",
       "      <th>기온</th>\n",
       "      <th>품질</th>\n",
       "      <th>균질</th>\n",
       "    </tr>\n",
       "  </thead>\n",
       "  <tbody>\n",
       "    <tr>\n",
       "      <th>0</th>\n",
       "      <td>2006/1/1</td>\n",
       "      <td>3.6</td>\n",
       "      <td>8</td>\n",
       "      <td>1</td>\n",
       "    </tr>\n",
       "    <tr>\n",
       "      <th>1</th>\n",
       "      <td>2006/1/2</td>\n",
       "      <td>4.0</td>\n",
       "      <td>8</td>\n",
       "      <td>1</td>\n",
       "    </tr>\n",
       "    <tr>\n",
       "      <th>2</th>\n",
       "      <td>2006/1/3</td>\n",
       "      <td>3.7</td>\n",
       "      <td>8</td>\n",
       "      <td>1</td>\n",
       "    </tr>\n",
       "    <tr>\n",
       "      <th>3</th>\n",
       "      <td>2006/1/4</td>\n",
       "      <td>4.0</td>\n",
       "      <td>8</td>\n",
       "      <td>1</td>\n",
       "    </tr>\n",
       "    <tr>\n",
       "      <th>4</th>\n",
       "      <td>2006/1/5</td>\n",
       "      <td>3.6</td>\n",
       "      <td>8</td>\n",
       "      <td>1</td>\n",
       "    </tr>\n",
       "  </tbody>\n",
       "</table>\n",
       "</div>"
      ],
      "text/plain": [
       "        연월일   기온  품질  균질\n",
       "0  2006/1/1  3.6   8   1\n",
       "1  2006/1/2  4.0   8   1\n",
       "2  2006/1/3  3.7   8   1\n",
       "3  2006/1/4  4.0   8   1\n",
       "4  2006/1/5  3.6   8   1"
      ]
     },
     "execution_count": 14,
     "metadata": {},
     "output_type": "execute_result"
    }
   ],
   "source": [
    "df = pd.read_csv('https://raw.githubusercontent.com/StillWork/data/master/new_weather.csv')\n",
    "print(df.shape)\n",
    "df[:5]"
   ]
  },
  {
   "cell_type": "markdown",
   "metadata": {},
   "source": [
    "## 훈련, 검증 데이터 나누기\n",
    "- 과거 기온 변화 정보를 사용하여 미래값을 예측한다 (time series forcasting)\n",
    "- 모델은 선형예측 (linear regression)을 기본적으로 사용한다\n",
    " - ARIMA, Prophet 등 다른 예측 모델이 있다 (시계열 분석에서 다룸)\n",
    "- 시계열 데이터는 순서를 유지해야 의미가 있으므로 랜덤하게 섞으면 안된다\n",
    " - 일반적으로 train_test_split을 사용하지 않는다\n",
    " - 보통 앞부분의 데이터로 훈련을 시키고 뒷 부분의 데이터로 검증한다"
   ]
  },
  {
   "cell_type": "code",
   "execution_count": 15,
   "metadata": {},
   "outputs": [
    {
     "data": {
      "text/plain": [
       "4018"
      ]
     },
     "execution_count": 15,
     "metadata": {},
     "output_type": "execute_result"
    }
   ],
   "source": [
    "y = df[\"기온\"].values\n",
    "len(y)"
   ]
  },
  {
   "cell_type": "code",
   "execution_count": 16,
   "metadata": {},
   "outputs": [
    {
     "data": {
      "text/plain": [
       "[<matplotlib.lines.Line2D at 0x7ff3ad3b6f70>]"
      ]
     },
     "execution_count": 16,
     "metadata": {},
     "output_type": "execute_result"
    },
    {
     "data": {
      "image/png": "[encoded data removed]",
      "text/plain": [
       "<Figure size 432x288 with 1 Axes>"
      ]
     },
     "metadata": {
      "image/png": {
       "height": 248,
       "width": 368
      },
      "needs_background": "light"
     },
     "output_type": "display_data"
    }
   ],
   "source": [
    "plt.plot(y[:400])"
   ]
  },
  {
   "cell_type": "markdown",
   "metadata": {},
   "source": [
    "- 훈련 데이터 검증 데이터 나누기"
   ]
  },
  {
   "cell_type": "code",
   "execution_count": 17,
   "metadata": {},
   "outputs": [
    {
     "name": "stderr",
     "output_type": "stream",
     "text": [
      "<ipython-input-17-3b4653ddb6a0>:3: DeprecationWarning: `np.int` is a deprecated alias for the builtin `int`. To silence this warning, use `int` by itself. Doing this will not modify any behavior and is safe. When replacing `np.int`, you may wish to use e.g. `np.int64` or `np.int32` to specify the precision. If you wish to review your current use, check the release note link for additional information.\n",
      "Deprecated in NumPy 1.20; for more details and guidance: https://numpy.org/devdocs/release/1.20.0-notes.html#deprecations\n",
      "  cut = np.int(len(y)*ratio)\n"
     ]
    },
    {
     "data": {
      "text/plain": [
       "(4018, 3013, 1005)"
      ]
     },
     "execution_count": 17,
     "metadata": {},
     "output_type": "execute_result"
    }
   ],
   "source": [
    "# 전체 시계열 데이터중 앞부분 75%를 훈련 데이터로, 나머지를 검증 데이터로 나누는 예\n",
    "ratio = 0.75\n",
    "cut = np.int(len(y)*ratio)\n",
    "train = y[:cut]\n",
    "test = y[cut:]\n",
    "len(y), len(train), len(test)"
   ]
  },
  {
   "cell_type": "markdown",
   "metadata": {},
   "source": [
    "# 선형 예측 모델\n",
    "\n",
    "\n",
    "- 과거 샘플 값을 보고 미래 값을 예측\n",
    "\n",
    "<img src=\"https://raw.githubusercontent.com/data-labs/image/main/%E1%84%89%E1%85%B3%E1%84%8F%E1%85%B3%E1%84%85%E1%85%B5%E1%86%AB%E1%84%89%E1%85%A3%E1%86%BA%202021-01-09%20%E1%84%8B%E1%85%A9%E1%84%8C%E1%85%A5%E1%86%AB%2011.16.26.png?raw=1\" width=450 align='left'>"
   ]
  },
  {
   "cell_type": "markdown",
   "metadata": {},
   "source": [
    "- 선형 회귀 (linear regression) 모델 사용\n",
    "\n",
    "\n",
    " > $\\hat{y_{n}} = b +a_{1}y_{n-1} + a_{2}y_{n-2} + a_{3}y_{n-3} + ...$"
   ]
  },
  {
   "cell_type": "markdown",
   "metadata": {},
   "source": [
    "## walk forward 예측\n",
    "- 내일이 되면 내일 기온을 알 수 있으므로 모레 기온을 예측하는데 내일 데이터를 사용할 수 있다. 이러한 방법을 walk forward 예측이라고 한다\n",
    "\n",
    "## 시계열 데이터를 테이블 구조로 만들기\n",
    "- 시계열 분석에서 머신러닝 모델을 쉽게 적용하기 위해서 비정형인(크기가 일정치 않은) 시계열 데이터를 정형 데이터인 테이블 구조로 만드는 경우가 많다\n",
    "- 아래는 5개의 시계열 데이터를 보고 6번째 값을 예측하는 경우이며 walk forward 예측을 위한 테이블을 보였다\n",
    "\n",
    "\n",
    "<img src=\"https://raw.githubusercontent.com/data-labs/image/main/%E1%84%89%E1%85%B3%E1%84%8F%E1%85%B3%E1%84%85%E1%85%B5%E1%86%AB%E1%84%89%E1%85%A3%E1%86%BA%202021-01-08%20%E1%84%8B%E1%85%A9%E1%84%92%E1%85%AE%203.44.24.png?raw=1\" width=600 aligh='left'>"
   ]
  },
  {
   "cell_type": "markdown",
   "metadata": {},
   "source": [
    "## split_seq()\n",
    "- 시계열 데이터를 테이블 구조로  표현하는 작업을 수행\n",
    " - data는 입력 시계열 데이터 (위 그림에서 len(data)=13임)\n",
    " - n_steps는 한 샘플의 크기 (위 그림에서 5)"
   ]
  },
  {
   "cell_type": "code",
   "execution_count": 18,
   "metadata": {
    "colab": {},
    "colab_type": "code",
    "id": "y7g6kXrv0Yg6"
   },
   "outputs": [],
   "source": [
    "def split_seq(data, n_steps):\n",
    "    x, y = [], []\n",
    "    for i in range(len(data)):\n",
    "        if i > len(data) - (n_steps + 1) : break\n",
    "        x.append(data[i:i+n_steps])\n",
    "        y.append(data[i+n_steps])\n",
    "    return np.array(x), np.array(y)"
   ]
  },
  {
   "cell_type": "code",
   "execution_count": 19,
   "metadata": {
    "colab": {
     "base_uri": "https://localhost:8080/",
     "height": 143
    },
    "colab_type": "code",
    "executionInfo": {
     "elapsed": 802,
     "status": "ok",
     "timestamp": 1573631413019,
     "user": {
      "displayName": "김화종",
      "photoUrl": "https://lh3.googleusercontent.com/a-/AAuE7mCOtXjyLykQ_8l9Pq2rL3r5y110ynjRS1eb1EzpcQ=s64",
      "userId": "17353049580175403985"
     },
     "user_tz": -540
    },
    "id": "WaH1Lw7mvE7Y",
    "outputId": "80383c6d-42be-4bca-d539-e201d7700888"
   },
   "outputs": [
    {
     "data": {
      "text/html": [
       "<div>\n",
       "<style scoped>\n",
       "    .dataframe tbody tr th:only-of-type {\n",
       "        vertical-align: middle;\n",
       "    }\n",
       "\n",
       "    .dataframe tbody tr th {\n",
       "        vertical-align: top;\n",
       "    }\n",
       "\n",
       "    .dataframe thead th {\n",
       "        text-align: right;\n",
       "    }\n",
       "</style>\n",
       "<table border=\"1\" class=\"dataframe\">\n",
       "  <thead>\n",
       "    <tr style=\"text-align: right;\">\n",
       "      <th></th>\n",
       "      <th>X</th>\n",
       "      <th>y</th>\n",
       "    </tr>\n",
       "  </thead>\n",
       "  <tbody>\n",
       "    <tr>\n",
       "      <th>0</th>\n",
       "      <td>[1, 2, 3, 4, 5]</td>\n",
       "      <td>6</td>\n",
       "    </tr>\n",
       "    <tr>\n",
       "      <th>1</th>\n",
       "      <td>[2, 3, 4, 5, 6]</td>\n",
       "      <td>7</td>\n",
       "    </tr>\n",
       "    <tr>\n",
       "      <th>2</th>\n",
       "      <td>[3, 4, 5, 6, 7]</td>\n",
       "      <td>8</td>\n",
       "    </tr>\n",
       "    <tr>\n",
       "      <th>3</th>\n",
       "      <td>[4, 5, 6, 7, 8]</td>\n",
       "      <td>9</td>\n",
       "    </tr>\n",
       "    <tr>\n",
       "      <th>4</th>\n",
       "      <td>[5, 6, 7, 8, 9]</td>\n",
       "      <td>10</td>\n",
       "    </tr>\n",
       "    <tr>\n",
       "      <th>5</th>\n",
       "      <td>[6, 7, 8, 9, 10]</td>\n",
       "      <td>11</td>\n",
       "    </tr>\n",
       "    <tr>\n",
       "      <th>6</th>\n",
       "      <td>[7, 8, 9, 10, 11]</td>\n",
       "      <td>12</td>\n",
       "    </tr>\n",
       "    <tr>\n",
       "      <th>7</th>\n",
       "      <td>[8, 9, 10, 11, 12]</td>\n",
       "      <td>13</td>\n",
       "    </tr>\n",
       "  </tbody>\n",
       "</table>\n",
       "</div>"
      ],
      "text/plain": [
       "                    X   y\n",
       "0     [1, 2, 3, 4, 5]   6\n",
       "1     [2, 3, 4, 5, 6]   7\n",
       "2     [3, 4, 5, 6, 7]   8\n",
       "3     [4, 5, 6, 7, 8]   9\n",
       "4     [5, 6, 7, 8, 9]  10\n",
       "5    [6, 7, 8, 9, 10]  11\n",
       "6   [7, 8, 9, 10, 11]  12\n",
       "7  [8, 9, 10, 11, 12]  13"
      ]
     },
     "execution_count": 19,
     "metadata": {},
     "output_type": "execute_result"
    }
   ],
   "source": [
    "# 예: 과거 5개의 샘플을 보고 다음 값을 예측하기 위한 훈련데이터 X, y 생성\n",
    "data = [1,2,3,4,5,6,7,8,9,10,11,12,13]\n",
    "x_train, y_train = split_seq(data, 5)\n",
    "\n",
    "pd.DataFrame(list(zip(x_train, y_train)), columns=['X','y'])"
   ]
  },
  {
   "cell_type": "markdown",
   "metadata": {},
   "source": [
    "## 선형 회귀 예측 모델 "
   ]
  },
  {
   "cell_type": "code",
   "execution_count": 20,
   "metadata": {},
   "outputs": [
    {
     "data": {
      "text/plain": [
       "0.936"
      ]
     },
     "execution_count": 20,
     "metadata": {},
     "output_type": "execute_result"
    }
   ],
   "source": [
    "# 선형 회귀 모델 함수\n",
    "from sklearn.linear_model import LinearRegression\n",
    "lr = LinearRegression()\n",
    "\n",
    "# 과거 10일 기온 데이터를 사용하여 내일 기온을 예측하는 경우\n",
    "n_steps = 10\n",
    "# 훈련 데이터\n",
    "x_train, y_train = split_seq(train, n_steps)\n",
    "# 검증 데이터\n",
    "x_test, y_test = split_seq(test, n_steps)\n",
    "# 훈련 수행\n",
    "lr.fit(x_train, y_train) \n",
    "# 선능 평가: 회귀에서는 디폴트로 R-Squared 점수를 알려준다 (뒤에서 설명함)\n",
    "lr.score(x_test, y_test).round(4) "
   ]
  },
  {
   "cell_type": "code",
   "execution_count": 21,
   "metadata": {},
   "outputs": [
    {
     "data": {
      "text/html": [
       "<div>\n",
       "<style scoped>\n",
       "    .dataframe tbody tr th:only-of-type {\n",
       "        vertical-align: middle;\n",
       "    }\n",
       "\n",
       "    .dataframe tbody tr th {\n",
       "        vertical-align: top;\n",
       "    }\n",
       "\n",
       "    .dataframe thead th {\n",
       "        text-align: right;\n",
       "    }\n",
       "</style>\n",
       "<table border=\"1\" class=\"dataframe\">\n",
       "  <thead>\n",
       "    <tr style=\"text-align: right;\">\n",
       "      <th></th>\n",
       "      <th>y_test</th>\n",
       "      <th>y_pred</th>\n",
       "    </tr>\n",
       "  </thead>\n",
       "  <tbody>\n",
       "    <tr>\n",
       "      <th>0</th>\n",
       "      <td>14.6</td>\n",
       "      <td>12.63</td>\n",
       "    </tr>\n",
       "    <tr>\n",
       "      <th>1</th>\n",
       "      <td>14.4</td>\n",
       "      <td>14.71</td>\n",
       "    </tr>\n",
       "    <tr>\n",
       "      <th>2</th>\n",
       "      <td>14.0</td>\n",
       "      <td>14.08</td>\n",
       "    </tr>\n",
       "    <tr>\n",
       "      <th>3</th>\n",
       "      <td>16.3</td>\n",
       "      <td>13.98</td>\n",
       "    </tr>\n",
       "    <tr>\n",
       "      <th>4</th>\n",
       "      <td>18.7</td>\n",
       "      <td>15.81</td>\n",
       "    </tr>\n",
       "  </tbody>\n",
       "</table>\n",
       "</div>"
      ],
      "text/plain": [
       "   y_test  y_pred\n",
       "0    14.6   12.63\n",
       "1    14.4   14.71\n",
       "2    14.0   14.08\n",
       "3    16.3   13.98\n",
       "4    18.7   15.81"
      ]
     },
     "execution_count": 21,
     "metadata": {},
     "output_type": "execute_result"
    }
   ],
   "source": [
    "# 실제값(y_test)과 예측값(y_pred) 비교\n",
    "y_pred = lr.predict(x_test)\n",
    "pd.DataFrame({\"y_test\":y_test, \"y_pred\":y_pred.round(2)})[:5]"
   ]
  },
  {
   "cell_type": "code",
   "execution_count": 22,
   "metadata": {},
   "outputs": [
    {
     "data": {
      "text/plain": [
       "(array([[ 3.6,  4. ,  3.7,  4. ,  3.6,  2.1,  2.8,  4.2,  3.7,  4.3],\n",
       "        [ 4. ,  3.7,  4. ,  3.6,  2.1,  2.8,  4.2,  3.7,  4.3,  6.1],\n",
       "        [ 3.7,  4. ,  3.6,  2.1,  2.8,  4.2,  3.7,  4.3,  6.1,  6.1],\n",
       "        [ 4. ,  3.6,  2.1,  2.8,  4.2,  3.7,  4.3,  6.1,  6.1,  4. ],\n",
       "        [ 3.6,  2.1,  2.8,  4.2,  3.7,  4.3,  6.1,  6.1,  4. ,  6.6],\n",
       "        [ 2.1,  2.8,  4.2,  3.7,  4.3,  6.1,  6.1,  4. ,  6.6, 10.7]]),\n",
       " array([ 6.1,  6.1,  4. ,  6.6, 10.7,  9. ]))"
      ]
     },
     "execution_count": 22,
     "metadata": {},
     "output_type": "execute_result"
    }
   ],
   "source": [
    "x_train[:6], y_train[:6]"
   ]
  },
  {
   "cell_type": "markdown",
   "metadata": {},
   "source": [
    "### 예측 결과 그래프"
   ]
  },
  {
   "cell_type": "code",
   "execution_count": 23,
   "metadata": {
    "colab": {
     "base_uri": "https://localhost:8080/",
     "height": 374
    },
    "colab_type": "code",
    "executionInfo": {
     "elapsed": 1439,
     "status": "ok",
     "timestamp": 1573631500222,
     "user": {
      "displayName": "김화종",
      "photoUrl": "https://lh3.googleusercontent.com/a-/AAuE7mCOtXjyLykQ_8l9Pq2rL3r5y110ynjRS1eb1EzpcQ=s64",
      "userId": "17353049580175403985"
     },
     "user_tz": -540
    },
    "id": "qdvfq8AW0Yg_",
    "outputId": "7d221285-562c-4da5-e5b8-8686ed46c72b"
   },
   "outputs": [
    {
     "data": {
      "image/png": "[encoded data removed]",
      "text/plain": [
       "<Figure size 720x432 with 1 Axes>"
      ]
     },
     "metadata": {
      "image/png": {
       "height": 357,
       "width": 592
      },
      "needs_background": "light"
     },
     "output_type": "display_data"
    }
   ],
   "source": [
    "# 실제값 붉은색, 예측값 파란색\n",
    "plt.figure(figsize=(10, 6))\n",
    "plt.plot(y_test[:365], c='r')\n",
    "plt.plot(y_pred[:365], c='b')\n",
    "plt.show()"
   ]
  },
  {
   "cell_type": "code",
   "execution_count": 24,
   "metadata": {},
   "outputs": [
    {
     "data": {
      "text/plain": [
       "array([ 0.04199142,  0.03098722,  0.00984958,  0.04929182,  0.03011167,\n",
       "        0.04455212,  0.00230516,  0.11047411, -0.16003639,  0.82663927])"
      ]
     },
     "execution_count": 24,
     "metadata": {},
     "output_type": "execute_result"
    }
   ],
   "source": [
    "# 선형 예측 모델 계수 (가중치) - 가장 최근의 값에 곱해지는 계수가 가장 크다 (아래에서 마지막 계수)\n",
    "lr.coef_"
   ]
  },
  {
   "cell_type": "markdown",
   "metadata": {},
   "source": [
    "# 모델 성능 평가\n",
    "- 회귀 모델의 성능을 평가하는 척도로 기본적으로 R-Squared를 사용하며 MAE, RMSE 등을 참고로 본다\n",
    " - MAE: mean absolute error  \n",
    " - MSE: mean squared error    \n",
    " - RMSE: root MSE  "
   ]
  },
  {
   "cell_type": "markdown",
   "metadata": {},
   "source": [
    "$MAE = $$1\\over{N}$$ \\sum |y_{i} - \\hat{y}|$\n",
    "\n",
    "$MSE = $$1\\over{N}$$ \\sum (y_{i} - \\hat{y})^{2}$\n",
    "\n",
    "$RMSE = \\sqrt{MSE}$\n",
    "\n",
    "$R^{2} = 1$-$\\sum(y_{i}-\\hat{y})^{2}\\over{\\sum(y_{i}-\\bar{y})^{2}}$ $= 1$-$MSE\\over{Variance}$  \n",
    " >  $y$ :  실제값  \n",
    " >  $\\hat{y}$ :  예측치  \n",
    " >  $\\bar{y}$ :  평균치\n",
    " \n",
    " ### R-Squared\n",
    "- 회귀 성능의 기본적인 평가 지표\n",
    "- MSE를 분산으로 정규화한 값을 사용한다\n",
    "- R-sqaured 값은 1에 가까울수록 완벽한 예측을 수행한 것이고, 0 근처이면 오차 평균치가 표준편차 정도인 경우이다"
   ]
  },
  {
   "cell_type": "code",
   "execution_count": 25,
   "metadata": {
    "colab": {
     "base_uri": "https://localhost:8080/",
     "height": 71
    },
    "colab_type": "code",
    "executionInfo": {
     "elapsed": 870,
     "status": "ok",
     "timestamp": 1573631519959,
     "user": {
      "displayName": "김화종",
      "photoUrl": "https://lh3.googleusercontent.com/a-/AAuE7mCOtXjyLykQ_8l9Pq2rL3r5y110ynjRS1eb1EzpcQ=s64",
      "userId": "17353049580175403985"
     },
     "user_tz": -540
    },
    "id": "snIhFzzV0YhB",
    "outputId": "95980921-5415-4112-a9ee-e3f1e3af70c7",
    "scrolled": false
   },
   "outputs": [
    {
     "name": "stdout",
     "output_type": "stream",
     "text": [
      "오류중 최대값= 8.613561682545189\n",
      "MAE (Mean Absolute Error) = 1.497897124679352\n",
      "R-Squared = 0.9359804760059094\n"
     ]
    }
   ],
   "source": [
    "# 선형 회귀 예측의 여러가지 성능 평가 지표\n",
    "error = np.abs(y_pred - y_test)\n",
    "print(\"오류중 최대값=\", max(error))\n",
    "print(\"MAE (Mean Absolute Error) =\", error.mean())\n",
    "print(\"R-Squared =\",lr.score(x_test, y_test))"
   ]
  },
  {
   "cell_type": "code",
   "execution_count": null,
   "metadata": {},
   "outputs": [],
   "source": []
  }
 ],
 "metadata": {
  "colab": {
   "collapsed_sections": [],
   "name": "g_06_날짜데이터.ipynb",
   "provenance": []
  },
  "kernelspec": {
   "display_name": "Python 3",
   "language": "python",
   "name": "python3"
  },
  "language_info": {
   "codemirror_mode": {
    "name": "ipython",
    "version": 3
   },
   "file_extension": ".py",
   "mimetype": "text/x-python",
   "name": "python",
   "nbconvert_exporter": "python",
   "pygments_lexer": "ipython3",
   "version": "3.8.8"
  },
  "nikola": {
   "category": "dev",
   "date": "2017-07-16 15:45:16 UTC+09:00",
   "description": "휴장일 데이터로 부터 개장일(market days)를 생성",
   "link": "",
   "slug": "pandas-market-days-krx",
   "tags": "python, market days, krx",
   "title": "영업일과 휴일 - 한국거래소",
   "type": "text"
  },
  "toc": {
   "base_numbering": 1,
   "nav_menu": {},
   "number_sections": false,
   "sideBar": true,
   "skip_h1_title": false,
   "title_cell": "Table of Contents",
   "title_sidebar": "Contents",
   "toc_cell": false,
   "toc_position": {
    "height": "calc(100% - 180px)",
    "left": "10px",
    "top": "150px",
    "width": "218px"
   },
   "toc_section_display": true,
   "toc_window_display": false
  }
 },
 "nbformat": 4,
 "nbformat_minor": 1
}
